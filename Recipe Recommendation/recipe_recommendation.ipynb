{
 "cells": [
  {
   "cell_type": "code",
   "execution_count": 36,
   "id": "1dd701a2",
   "metadata": {},
   "outputs": [],
   "source": [
    "import pandas as pd\n",
    "import numpy as np\n",
    "from tqdm import tqdm"
   ]
  },
  {
   "cell_type": "code",
   "execution_count": 37,
   "id": "e541da7e",
   "metadata": {},
   "outputs": [],
   "source": [
    "recipes_df = pd.read_json(\"recipes.json\")"
   ]
  },
  {
   "cell_type": "code",
   "execution_count": 38,
   "id": "e9f6070e",
   "metadata": {},
   "outputs": [],
   "source": [
    "recipes_df = recipes_df[recipes_df[\"ingredients\"].apply(lambda x: len(x) > 2)]"
   ]
  },
  {
   "cell_type": "markdown",
   "id": "99559178",
   "metadata": {},
   "source": [
    "# Named Entity Recognition"
   ]
  },
  {
   "cell_type": "code",
   "execution_count": 51,
   "id": "e37c502c",
   "metadata": {},
   "outputs": [],
   "source": [
    "from transformers import *"
   ]
  },
  {
   "cell_type": "code",
   "execution_count": null,
   "id": "0f9304b3",
   "metadata": {},
   "outputs": [],
   "source": [
    "ner = pipeline(\"ner\", aggregation_strategy=\"simple\", model=\"davanstrien/deberta-v3-base_fine_tuned_food_ner\")"
   ]
  },
  {
   "cell_type": "code",
   "execution_count": 39,
   "id": "df2164bf",
   "metadata": {},
   "outputs": [],
   "source": [
    "# Using nlk lemmatizer for generating lemmatized words\n",
    "import nltk\n",
    "from nltk.stem import WordNetLemmatizer\n",
    "wnl = WordNetLemmatizer()"
   ]
  },
  {
   "cell_type": "code",
   "execution_count": 54,
   "id": "b09eb9fe",
   "metadata": {},
   "outputs": [],
   "source": [
    "# This function takes recipe list as input and preprocesses it, keeping only ingredients and removing unnecessary words like quantities and processes\n",
    "def preprocess(ing_list):\n",
    "    \n",
    "    text = \" ,cup, \".join(ing_list).lower()\n",
    "    text = text.replace(\" \",\"   \")\n",
    "    doc_ner = ner(text)\n",
    "    ings = \"\"\n",
    "    count = 0\n",
    "    for n,i in enumerate(doc_ner):\n",
    "        if count>0:\n",
    "            count=count-1\n",
    "            if count==0:\n",
    "                ings = ings + \",\"\n",
    "            continue\n",
    "        prev = None\n",
    "\n",
    "        while n<len(doc_ner) and \"FOOD\" in doc_ner[n][\"entity_group\"]:\n",
    "            if prev and doc_ner[n][\"start\"] == prev+2:\n",
    "                ings = ings + \" \" + doc_ner[n][\"word\"]\n",
    "                count = count + 1\n",
    "                prev = doc_ner[n][\"end\"]\n",
    "                n = n + 1\n",
    "\n",
    "            elif prev and doc_ner[n][\"start\"] > prev+2:\n",
    "                ings = ings + \",\" + doc_ner[n][\"word\"]\n",
    "                count = count + 1\n",
    "                prev = doc_ner[n][\"end\"]\n",
    "                n = n + 1\n",
    "\n",
    "            else:\n",
    "                ings = ings + \"\" + doc_ner[n][\"word\"]\n",
    "                count = count + 1\n",
    "                prev = doc_ner[n][\"end\"]\n",
    "                n = n + 1\n",
    "                \n",
    "    ings = list(set(list(filter(None, ings.split(\",\")))))\n",
    "    singular_ings = [clean_spacy(i) for i in ings]\n",
    "    return singular_ings"
   ]
  },
  {
   "cell_type": "code",
   "execution_count": 45,
   "id": "46b251e8",
   "metadata": {},
   "outputs": [],
   "source": [
    "import spacy\n",
    "nlp = spacy.load('en_core_web_sm')"
   ]
  },
  {
   "cell_type": "code",
   "execution_count": 53,
   "id": "7ac3ec82",
   "metadata": {},
   "outputs": [],
   "source": [
    "# using spacy lemmatization to convert plural nouns into singular ones\n",
    "def clean_spacy(text):\n",
    "    doc = nlp(text)\n",
    "    clean_text = \" \".join([token.lemma_ if token.pos_ == 'NOUN' else token.text for token in doc])\n",
    "    return clean_text"
   ]
  },
  {
   "cell_type": "code",
   "execution_count": 55,
   "id": "9d6b28b3",
   "metadata": {},
   "outputs": [],
   "source": [
    "from tqdm import tqdm"
   ]
  },
  {
   "cell_type": "code",
   "execution_count": 56,
   "id": "d65fbc5f",
   "metadata": {},
   "outputs": [
    {
     "name": "stderr",
     "output_type": "stream",
     "text": [
      "  0%|                                                                                         | 0/9990 [00:00<?, ?it/s]Asking to truncate to max_length but no maximum length is provided and the model has no predefined maximum length. Default to no truncation.\n",
      "100%|████████████████████████████████████████████████████████████████████████████| 9990/9990 [2:04:15<00:00,  1.34it/s]\n"
     ]
    }
   ],
   "source": [
    "processed_ingredients = []\n",
    "for i in tqdm(recipes_df[\"ingredients\"]):\n",
    "    processed_ingredients.append(preprocess(i))"
   ]
  },
  {
   "cell_type": "code",
   "execution_count": 57,
   "id": "3171c1bf",
   "metadata": {},
   "outputs": [],
   "source": [
    "recipes_df[\"preproc_ingredients\"] = processed_ingredients\n",
    "recipes_df = recipes_df.reset_index()"
   ]
  },
  {
   "cell_type": "code",
   "execution_count": 62,
   "id": "a330264f",
   "metadata": {},
   "outputs": [],
   "source": [
    "rec_ing_map = recipes_df[[\"index\",\"preproc_ingredients\"]]\n",
    "rec_ing_map = rec_ing_map.explode('preproc_ingredients').reset_index(drop=True)"
   ]
  },
  {
   "cell_type": "code",
   "execution_count": 65,
   "id": "16d7b43a",
   "metadata": {},
   "outputs": [],
   "source": [
    "rec_ing_map[\"preproc_ingredients\"] = rec_ing_map[\"preproc_ingredients\"].str.strip()\n",
    "rec_ing_map = rec_ing_map.groupby('preproc_ingredients')['index'].apply(list).reset_index()"
   ]
  },
  {
   "cell_type": "code",
   "execution_count": 80,
   "id": "92e7571b",
   "metadata": {},
   "outputs": [],
   "source": [
    "ingredients = pd.DataFrame(list(rec_ing_map[\"preproc_ingredients\"]),columns=[\"name\"])"
   ]
  },
  {
   "cell_type": "code",
   "execution_count": 71,
   "id": "a75de742",
   "metadata": {},
   "outputs": [],
   "source": [
    "rec_ing_map = pd.read_json(\"rec_ing_map.json\")"
   ]
  },
  {
   "cell_type": "code",
   "execution_count": 70,
   "id": "474df973",
   "metadata": {},
   "outputs": [],
   "source": [
    "rec_ing_map.to_json(\"rec_ing_map.json\")"
   ]
  },
  {
   "cell_type": "markdown",
   "id": "afe1a9f0",
   "metadata": {},
   "source": [
    "# Ingredient similiarity:"
   ]
  },
  {
   "cell_type": "code",
   "execution_count": 73,
   "id": "311dc27f",
   "metadata": {},
   "outputs": [],
   "source": [
    "import tensorflow_hub as hub"
   ]
  },
  {
   "cell_type": "code",
   "execution_count": 74,
   "id": "0f103512",
   "metadata": {},
   "outputs": [],
   "source": [
    "import pickle"
   ]
  },
  {
   "cell_type": "code",
   "execution_count": 75,
   "id": "f6f78f59",
   "metadata": {},
   "outputs": [],
   "source": [
    "# loading universal sentense encoder model\n",
    "embed_model = hub.load(r\"D:\\Jupyter\\bd_2\\project\\universal-sentence-encoder\")"
   ]
  },
  {
   "cell_type": "code",
   "execution_count": 76,
   "id": "c4a90d4e",
   "metadata": {},
   "outputs": [],
   "source": [
    "products_df = pd.read_csv(\"data/products.csv\")"
   ]
  },
  {
   "cell_type": "code",
   "execution_count": 77,
   "id": "e7a7e430",
   "metadata": {},
   "outputs": [],
   "source": [
    "# filtering aisles containing only food related products\n",
    "products_df = products_df[products_df[\"aisle_id\"].isin([2,4,5,7,9,12,15,14,16,17,18,19,21,24,26,28,29,30,31,32,33,34,35,36,37,39,42,53,63,66,68,69,72,76,81,84,88,89,95,96,98,99,104,105,106,108,110,112,116,117,122,123,128,131])]"
   ]
  },
  {
   "cell_type": "code",
   "execution_count": 78,
   "id": "e2aad10a",
   "metadata": {},
   "outputs": [],
   "source": [
    "products = pd.DataFrame(list(products_df[\"product_name\"]),columns=[\"name\"])"
   ]
  },
  {
   "cell_type": "code",
   "execution_count": 79,
   "id": "0d3c0f2b",
   "metadata": {},
   "outputs": [],
   "source": [
    "# This function returns universal sentense encoder embeddings\n",
    "def gen_use_embedding(name):\n",
    "    embeddings = embed_model(name)\n",
    "    return embeddings[0]"
   ]
  },
  {
   "cell_type": "code",
   "execution_count": 85,
   "id": "279320c6",
   "metadata": {},
   "outputs": [],
   "source": [
    "products[\"embed\"] = products[\"name\"].apply(lambda x: gen_use_embedding([clean_spacy(x.lower())]))"
   ]
  },
  {
   "cell_type": "code",
   "execution_count": 86,
   "id": "6f05e436",
   "metadata": {},
   "outputs": [],
   "source": [
    "ingredients[\"embed\"] = ingredients[\"name\"].apply(lambda x: gen_use_embedding([x.lower()]))"
   ]
  },
  {
   "cell_type": "code",
   "execution_count": 87,
   "id": "c2a61cfb",
   "metadata": {},
   "outputs": [],
   "source": [
    "from collections import Counter"
   ]
  },
  {
   "cell_type": "code",
   "execution_count": 88,
   "id": "b29cca29",
   "metadata": {},
   "outputs": [],
   "source": [
    "from scipy import spatial"
   ]
  },
  {
   "cell_type": "code",
   "execution_count": 89,
   "id": "40733a5d",
   "metadata": {},
   "outputs": [
    {
     "name": "stderr",
     "output_type": "stream",
     "text": [
      "19593it [2:07:36,  2.56it/s] \n"
     ]
    }
   ],
   "source": [
    "# matching recipe ingredients to instacart products\n",
    "matched_products=[]\n",
    "for i,j in tqdm(zip(products[\"embed\"], products[\"name\"])):\n",
    "    matching_score = {}\n",
    "    for p,q in zip(ingredients[\"embed\"], ingredients[\"name\"]):\n",
    "        matching_score[q] = 1 - spatial.distance.cosine(i, p)\n",
    "    matching_score = Counter(matching_score)\n",
    "    top_matched_products = matching_score.most_common(5)\n",
    "    prods = []\n",
    "    for k,v in top_matched_products:\n",
    "        if v > 0.7:\n",
    "            prods.append(k)\n",
    "    matched_products.append(prods)"
   ]
  },
  {
   "cell_type": "code",
   "execution_count": null,
   "id": "87573dc6",
   "metadata": {},
   "outputs": [],
   "source": [
    "# tested sbert embeddings but, USE embeddings are giving better results\n",
    "sbert_model = SentenceTransformer('distilbert-base-nli-mean-tokens')\n",
    "def gen_sbert_embed(text):\n",
    "    vectors = model.encode(text)\n",
    "    return vectors"
   ]
  },
  {
   "cell_type": "code",
   "execution_count": 90,
   "id": "be13f804",
   "metadata": {},
   "outputs": [],
   "source": [
    "products[\"matched_ingredients\"] = matched_products"
   ]
  },
  {
   "cell_type": "code",
   "execution_count": 96,
   "id": "a24a2ae9",
   "metadata": {},
   "outputs": [],
   "source": [
    "products.to_pickle(\"products_map.pkl\")"
   ]
  },
  {
   "cell_type": "code",
   "execution_count": 93,
   "id": "dbebade9",
   "metadata": {},
   "outputs": [],
   "source": [
    "prod_ing_map = pd.read_pickle(\"prod_ing_map.pkl\")"
   ]
  },
  {
   "cell_type": "code",
   "execution_count": 98,
   "id": "270122f8",
   "metadata": {},
   "outputs": [],
   "source": [
    "prod_ing_map = products[[\"name\",\"matched_ingredients\"]]"
   ]
  },
  {
   "cell_type": "code",
   "execution_count": null,
   "id": "364025c7",
   "metadata": {},
   "outputs": [],
   "source": [
    "for i in prod_ing_map.index:\n",
    "    if \"onion\" in prod_ing_map[\"name\"][i].lower():\n",
    "        print(prod_ing_map[\"name\"][i].lower())\n",
    "        print(prod_ing_map[\"matched_ingredients\"][i])\n",
    "        print(\"\\n************************************\")"
   ]
  },
  {
   "cell_type": "code",
   "execution_count": 100,
   "id": "397f6efd",
   "metadata": {},
   "outputs": [],
   "source": [
    "prod_ing_map = prod_ing_map[prod_ing_map['matched_ingredients'].apply(lambda x: len(x) > 0)]"
   ]
  },
  {
   "cell_type": "markdown",
   "id": "3921f2cf",
   "metadata": {},
   "source": [
    "# Recipe recomedation:"
   ]
  },
  {
   "cell_type": "code",
   "execution_count": null,
   "id": "9a35b2b6",
   "metadata": {},
   "outputs": [],
   "source": [
    "rec_ing_map = pd.read_json(\"rec_ing_map.json\")"
   ]
  },
  {
   "cell_type": "code",
   "execution_count": 103,
   "id": "564d5eb3",
   "metadata": {},
   "outputs": [],
   "source": [
    "prod_ing_map = prod_ing_map.explode('matched_ingredients').reset_index(drop=True)"
   ]
  },
  {
   "cell_type": "code",
   "execution_count": 104,
   "id": "04f83dc8",
   "metadata": {},
   "outputs": [],
   "source": [
    "rec_ing_map = rec_ing_map.merge(prod_ing_map, left_on=\"preproc_ingredients\",right_on=\"matched_ingredients\",how=\"inner\")"
   ]
  },
  {
   "cell_type": "code",
   "execution_count": null,
   "id": "cfb5f8c3",
   "metadata": {},
   "outputs": [],
   "source": [
    "prods_rec_map = pd.read_json(\"prods_rec_map\")"
   ]
  },
  {
   "cell_type": "code",
   "execution_count": 110,
   "id": "3b2e04e7",
   "metadata": {},
   "outputs": [
    {
     "data": {
      "text/html": [
       "<div>\n",
       "<style scoped>\n",
       "    .dataframe tbody tr th:only-of-type {\n",
       "        vertical-align: middle;\n",
       "    }\n",
       "\n",
       "    .dataframe tbody tr th {\n",
       "        vertical-align: top;\n",
       "    }\n",
       "\n",
       "    .dataframe thead th {\n",
       "        text-align: right;\n",
       "    }\n",
       "</style>\n",
       "<table border=\"1\" class=\"dataframe\">\n",
       "  <thead>\n",
       "    <tr style=\"text-align: right;\">\n",
       "      <th></th>\n",
       "      <th>name</th>\n",
       "      <th>recipe_index</th>\n",
       "    </tr>\n",
       "  </thead>\n",
       "  <tbody>\n",
       "    <tr>\n",
       "      <th>0</th>\n",
       "      <td>1% Chocolate Milk</td>\n",
       "      <td>[354, 422, 528, 635, 664, 704, 719, 748, 778, ...</td>\n",
       "    </tr>\n",
       "    <tr>\n",
       "      <th>1</th>\n",
       "      <td>1% Lowfat Cottage Cheese</td>\n",
       "      <td>[3020, 4302, 4610, 5647, 5666, 6113, 7043, 922...</td>\n",
       "    </tr>\n",
       "    <tr>\n",
       "      <th>2</th>\n",
       "      <td>1% Milk</td>\n",
       "      <td>[6542, 27, 31, 35, 36, 39, 40, 54, 55, 58, 59,...</td>\n",
       "    </tr>\n",
       "    <tr>\n",
       "      <th>3</th>\n",
       "      <td>1/4 Pound Burgers</td>\n",
       "      <td>[3059, 7134]</td>\n",
       "    </tr>\n",
       "    <tr>\n",
       "      <th>4</th>\n",
       "      <td>10 Grain Bread Mix</td>\n",
       "      <td>[3072, 6438, 7417, 8255, 8388, 9032, 3161]</td>\n",
       "    </tr>\n",
       "    <tr>\n",
       "      <th>...</th>\n",
       "      <td>...</td>\n",
       "      <td>...</td>\n",
       "    </tr>\n",
       "    <tr>\n",
       "      <th>10642</th>\n",
       "      <td>for Tots Apple Juice</td>\n",
       "      <td>[1521, 1892, 2223, 2492, 2940, 3078, 3249, 349...</td>\n",
       "    </tr>\n",
       "    <tr>\n",
       "      <th>10643</th>\n",
       "      <td>gelato Coffee Toffee</td>\n",
       "      <td>[336, 4264, 5521, 2086, 7332]</td>\n",
       "    </tr>\n",
       "    <tr>\n",
       "      <th>10644</th>\n",
       "      <td>pumpkin spice</td>\n",
       "      <td>[42, 82, 104, 293, 402, 526, 549, 767, 1057, 1...</td>\n",
       "    </tr>\n",
       "    <tr>\n",
       "      <th>10645</th>\n",
       "      <td>with Olive Oil Mayonnaise</td>\n",
       "      <td>[295, 358, 562, 1471, 1676, 2357, 3457, 4162, ...</td>\n",
       "    </tr>\n",
       "    <tr>\n",
       "      <th>10646</th>\n",
       "      <td>with Olive Oil Mayonnaise Dressing</td>\n",
       "      <td>[295, 358, 562, 1471, 1676, 2357, 3457, 4162, ...</td>\n",
       "    </tr>\n",
       "  </tbody>\n",
       "</table>\n",
       "<p>10647 rows × 2 columns</p>\n",
       "</div>"
      ],
      "text/plain": [
       "                                     name  \\\n",
       "0                       1% Chocolate Milk   \n",
       "1                1% Lowfat Cottage Cheese   \n",
       "2                                 1% Milk   \n",
       "3                       1/4 Pound Burgers   \n",
       "4                      10 Grain Bread Mix   \n",
       "...                                   ...   \n",
       "10642                for Tots Apple Juice   \n",
       "10643                gelato Coffee Toffee   \n",
       "10644                       pumpkin spice   \n",
       "10645           with Olive Oil Mayonnaise   \n",
       "10646  with Olive Oil Mayonnaise Dressing   \n",
       "\n",
       "                                            recipe_index  \n",
       "0      [354, 422, 528, 635, 664, 704, 719, 748, 778, ...  \n",
       "1      [3020, 4302, 4610, 5647, 5666, 6113, 7043, 922...  \n",
       "2      [6542, 27, 31, 35, 36, 39, 40, 54, 55, 58, 59,...  \n",
       "3                                           [3059, 7134]  \n",
       "4             [3072, 6438, 7417, 8255, 8388, 9032, 3161]  \n",
       "...                                                  ...  \n",
       "10642  [1521, 1892, 2223, 2492, 2940, 3078, 3249, 349...  \n",
       "10643                      [336, 4264, 5521, 2086, 7332]  \n",
       "10644  [42, 82, 104, 293, 402, 526, 549, 767, 1057, 1...  \n",
       "10645  [295, 358, 562, 1471, 1676, 2357, 3457, 4162, ...  \n",
       "10646  [295, 358, 562, 1471, 1676, 2357, 3457, 4162, ...  \n",
       "\n",
       "[10647 rows x 2 columns]"
      ]
     },
     "execution_count": 110,
     "metadata": {},
     "output_type": "execute_result"
    }
   ],
   "source": [
    "prods_rec_map"
   ]
  },
  {
   "cell_type": "code",
   "execution_count": 105,
   "id": "a933786e",
   "metadata": {},
   "outputs": [],
   "source": [
    "prods_rec_map = rec_ing_map[[\"name\",\"index\",\"matched_ingredients\"]]"
   ]
  },
  {
   "cell_type": "code",
   "execution_count": 106,
   "id": "f79c83ba",
   "metadata": {},
   "outputs": [],
   "source": [
    "prods_rec_map = prods_rec_map.explode('index').reset_index(drop=True)"
   ]
  },
  {
   "cell_type": "code",
   "execution_count": 107,
   "id": "5d4e52b1",
   "metadata": {},
   "outputs": [],
   "source": [
    "prods_rec_map = prods_rec_map.rename(columns={\"index\": \"recipe_index\"})"
   ]
  },
  {
   "cell_type": "code",
   "execution_count": 111,
   "id": "5af4519b",
   "metadata": {},
   "outputs": [],
   "source": [
    "prods_rec_map.to_json(\"prods_rec_map.json\")"
   ]
  },
  {
   "cell_type": "code",
   "execution_count": null,
   "id": "aa5856e6",
   "metadata": {},
   "outputs": [],
   "source": [
    "for i,j in zip(prods_rec_map[\"name\"],prods_rec_map[\"recipe_index\"]):\n",
    "    if \"tomato\" == i.lower():\n",
    "        print(i)\n",
    "        print(j)\n",
    "        print(\"\\n****************************\")"
   ]
  },
  {
   "cell_type": "code",
   "execution_count": 109,
   "id": "aec834e3",
   "metadata": {},
   "outputs": [],
   "source": [
    "prods_rec_map = prods_rec_map.groupby('name')['recipe_index'].apply(list).reset_index()"
   ]
  },
  {
   "cell_type": "code",
   "execution_count": null,
   "id": "e9d42e2f",
   "metadata": {},
   "outputs": [],
   "source": [
    "prods_rec_map = pd.read_json(\"prods_rec_map\")\n",
    "recipes_df = pd.read_json(\"recipes.json\")"
   ]
  },
  {
   "cell_type": "markdown",
   "id": "9a7979ab",
   "metadata": {},
   "source": [
    "# Inference:"
   ]
  },
  {
   "cell_type": "code",
   "execution_count": 113,
   "id": "8a995bbe",
   "metadata": {},
   "outputs": [],
   "source": [
    "import itertools\n",
    "import pandas as pd\n",
    "\n",
    "prods_rec_map = pd.read_json(\"prods_rec_map\")\n",
    "recipes_df = pd.read_json(\"recipes.json\")\n",
    "\n",
    "def get_intersection_recipes(input_prod_list):\n",
    "    recipe_lists = [list(prods_rec_map[prods_rec_map[\"name\"]==i][\"recipe_index\"].values)[0] for i in input_prod_list]\n",
    "    common_elements = set(recipe_lists[0]).intersection(*recipe_lists[1:])\n",
    "    recipes = recipes_df.iloc[list(common_elements),[0,1]]\n",
    "    return recipes\n",
    "\n",
    "def get_combinations(input_prod_list):\n",
    "    combinations = []\n",
    "    for i in range(2, len(input_prod_list) + 1):\n",
    "        combinations += itertools.combinations(input_prod_list, i)\n",
    "    return combinations\n",
    "\n",
    "def get_recipes(input_prod_list):\n",
    "    combinations = get_combinations(input_prod_list)\n",
    "    \n",
    "    merged_df = pd.concat([get_intersection_recipes(c) for c in combinations])\n",
    "    recipes_df = merged_df.sample(frac=1)\n",
    "    return recipes_df.head(10)"
   ]
  },
  {
   "cell_type": "code",
   "execution_count": 114,
   "id": "dca45037",
   "metadata": {},
   "outputs": [
    {
     "data": {
      "text/html": [
       "<div>\n",
       "<style scoped>\n",
       "    .dataframe tbody tr th:only-of-type {\n",
       "        vertical-align: middle;\n",
       "    }\n",
       "\n",
       "    .dataframe tbody tr th {\n",
       "        vertical-align: top;\n",
       "    }\n",
       "\n",
       "    .dataframe thead th {\n",
       "        text-align: right;\n",
       "    }\n",
       "</style>\n",
       "<table border=\"1\" class=\"dataframe\">\n",
       "  <thead>\n",
       "    <tr style=\"text-align: right;\">\n",
       "      <th></th>\n",
       "      <th>title</th>\n",
       "      <th>link</th>\n",
       "    </tr>\n",
       "  </thead>\n",
       "  <tbody>\n",
       "    <tr>\n",
       "      <th>4807</th>\n",
       "      <td>Spicy rice burritos</td>\n",
       "      <td>https://www.bbcgoodfood.com/recipes/spicy-rice...</td>\n",
       "    </tr>\n",
       "    <tr>\n",
       "      <th>7155</th>\n",
       "      <td>Moroccan chard &amp; lamb pan-fry</td>\n",
       "      <td>https://www.bbcgoodfood.com/recipes/moroccan-c...</td>\n",
       "    </tr>\n",
       "    <tr>\n",
       "      <th>4360</th>\n",
       "      <td>Aubergine &amp; goat's cheese pasta</td>\n",
       "      <td>https://www.bbcgoodfood.com/recipes/aubergine-...</td>\n",
       "    </tr>\n",
       "    <tr>\n",
       "      <th>2097</th>\n",
       "      <td>Lamb scouse</td>\n",
       "      <td>https://www.bbcgoodfood.com/recipes/lamb-scouse</td>\n",
       "    </tr>\n",
       "    <tr>\n",
       "      <th>9882</th>\n",
       "      <td>Indian turkey with spinach &amp; new potatoes</td>\n",
       "      <td>https://www.bbcgoodfood.com/recipes/indian-tur...</td>\n",
       "    </tr>\n",
       "    <tr>\n",
       "      <th>910</th>\n",
       "      <td>Beef curry</td>\n",
       "      <td>https://www.bbcgoodfood.com/recipes/beef-curry</td>\n",
       "    </tr>\n",
       "    <tr>\n",
       "      <th>7805</th>\n",
       "      <td>Russian shashlik with rhubarb sauce</td>\n",
       "      <td>https://www.bbcgoodfood.com/recipes/russian-sh...</td>\n",
       "    </tr>\n",
       "    <tr>\n",
       "      <th>8607</th>\n",
       "      <td>Lamb shanks with chickpeas &amp; Moroccan spices</td>\n",
       "      <td>https://www.bbcgoodfood.com/recipes/lamb-shank...</td>\n",
       "    </tr>\n",
       "    <tr>\n",
       "      <th>8607</th>\n",
       "      <td>Lamb shanks with chickpeas &amp; Moroccan spices</td>\n",
       "      <td>https://www.bbcgoodfood.com/recipes/lamb-shank...</td>\n",
       "    </tr>\n",
       "    <tr>\n",
       "      <th>2526</th>\n",
       "      <td>Sweet potato tacos</td>\n",
       "      <td>https://www.bbcgoodfood.com/premium/sweet-pota...</td>\n",
       "    </tr>\n",
       "  </tbody>\n",
       "</table>\n",
       "</div>"
      ],
      "text/plain": [
       "                                             title  \\\n",
       "4807                           Spicy rice burritos   \n",
       "7155                 Moroccan chard & lamb pan-fry   \n",
       "4360               Aubergine & goat's cheese pasta   \n",
       "2097                                   Lamb scouse   \n",
       "9882     Indian turkey with spinach & new potatoes   \n",
       "910                                     Beef curry   \n",
       "7805           Russian shashlik with rhubarb sauce   \n",
       "8607  Lamb shanks with chickpeas & Moroccan spices   \n",
       "8607  Lamb shanks with chickpeas & Moroccan spices   \n",
       "2526                            Sweet potato tacos   \n",
       "\n",
       "                                                   link  \n",
       "4807  https://www.bbcgoodfood.com/recipes/spicy-rice...  \n",
       "7155  https://www.bbcgoodfood.com/recipes/moroccan-c...  \n",
       "4360  https://www.bbcgoodfood.com/recipes/aubergine-...  \n",
       "2097    https://www.bbcgoodfood.com/recipes/lamb-scouse  \n",
       "9882  https://www.bbcgoodfood.com/recipes/indian-tur...  \n",
       "910      https://www.bbcgoodfood.com/recipes/beef-curry  \n",
       "7805  https://www.bbcgoodfood.com/recipes/russian-sh...  \n",
       "8607  https://www.bbcgoodfood.com/recipes/lamb-shank...  \n",
       "8607  https://www.bbcgoodfood.com/recipes/lamb-shank...  \n",
       "2526  https://www.bbcgoodfood.com/premium/sweet-pota...  "
      ]
     },
     "execution_count": 114,
     "metadata": {},
     "output_type": "execute_result"
    }
   ],
   "source": [
    "input_prod_list = [\"Chopped Onion\",\"Tomato\",\"Organic Hass Avocado\",\"Ground Lamb\",\"Pomegranates\"]\n",
    "get_recipes(input_prod_list)"
   ]
  },
  {
   "cell_type": "code",
   "execution_count": null,
   "id": "762568c5",
   "metadata": {},
   "outputs": [],
   "source": []
  }
 ],
 "metadata": {
  "kernelspec": {
   "display_name": "Python 3 (ipykernel)",
   "language": "python",
   "name": "python3"
  },
  "language_info": {
   "codemirror_mode": {
    "name": "ipython",
    "version": 3
   },
   "file_extension": ".py",
   "mimetype": "text/x-python",
   "name": "python",
   "nbconvert_exporter": "python",
   "pygments_lexer": "ipython3",
   "version": "3.9.13"
  }
 },
 "nbformat": 4,
 "nbformat_minor": 5
}
