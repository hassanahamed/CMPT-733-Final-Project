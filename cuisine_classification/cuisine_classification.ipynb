{
 "cells": [
  {
   "cell_type": "markdown",
   "id": "1a956489",
   "metadata": {},
   "source": [
    "# Web Scraping                                                       "
   ]
  },
  {
   "cell_type": "code",
   "execution_count": null,
   "id": "8be952be",
   "metadata": {},
   "outputs": [],
   "source": [
    "import pandas as pd\n",
    "from bs4 import BeautifulSoup as bs\n",
    "from requests import get\n",
    "import numpy as np\n",
    "from bs4 import BeautifulSoup,NavigableString,Tag\n",
    "import re\n",
    "import os\n",
    "import requests"
   ]
  },
  {
   "cell_type": "code",
   "execution_count": null,
   "id": "e8bf0435",
   "metadata": {},
   "outputs": [],
   "source": [
    "# Loading the first part of food hacks site\n",
    "url = \"https://food-hacks.wonderhowto.com/how-to/cook-any-cuisine-perfectly-by-knowing-right-ingredients-use-part-1-0168105/\"\n",
    "html_page = requests.get(url).text\n",
    "html_parser=bs(html_page)"
   ]
  },
  {
   "cell_type": "code",
   "execution_count": null,
   "id": "606ca8ee",
   "metadata": {},
   "outputs": [],
   "source": [
    "# Extracting most commenly used ingredients from each cuisine html tag\n",
    "\n",
    "cusines = []\n",
    "ingrs = []\n",
    "\n",
    "for cu in html_parser.find_all('h2')[1:]:\n",
    "    cusines.append(cu.get_text())\n",
    "    ul = cu.find_next('ul')\n",
    "    ingr = []\n",
    "    for li in ul.find_all('li'):\n",
    "        ingr.append(li.get_text())\n",
    "    ingrs.append(ingr)\n",
    "\n",
    "data = []\n",
    "for idx, cu in enumerate(cusines):\n",
    "    for ingr in ingrs[idx]:\n",
    "        data.append([cu, ingr])\n",
    "\n",
    "df = pd.DataFrame(data, columns=['cuisine', 'ingredient'])"
   ]
  },
  {
   "cell_type": "code",
   "execution_count": null,
   "id": "e18d4d5d",
   "metadata": {},
   "outputs": [],
   "source": [
    "# Loading the second part of food hacks site\n",
    "url_2 = \"https://food-hacks.wonderhowto.com/how-to/cook-any-cuisine-perfectly-by-knowing-right-ingredients-use-part-2-0168253/\"\n",
    "html_page_2 = requests.get(url_2).text\n",
    "html_parser_2=bs(html_page_2)"
   ]
  },
  {
   "cell_type": "code",
   "execution_count": null,
   "id": "022d21d3",
   "metadata": {},
   "outputs": [],
   "source": [
    "# Extracting most commenly used ingredients from each cuisine html tag\n",
    "cusines = []\n",
    "ingrs = []\n",
    "\n",
    "for cu in html_parser_2.find_all('h2')[1:]:\n",
    "    cusines.append(cu.get_text())\n",
    "    if cu.get_text=='Thai':\n",
    "        ul=cu.find_next_sibling('ul')\n",
    "    else:\n",
    "        ul = cu.find_next('ul')\n",
    "    ingr = []\n",
    "    for li in ul.find_all('li'):\n",
    "        ingr.append(li.get_text())\n",
    "    ingrs.append(ingr)\n",
    "\n",
    "data = []\n",
    "for idx, cu in enumerate(cusines):\n",
    "    for ingr in ingrs[idx]:\n",
    "        data.append([cu, ingr])\n",
    "\n",
    "df2 = pd.DataFrame(data, columns=['cuisine', 'ingredient'])"
   ]
  },
  {
   "cell_type": "code",
   "execution_count": null,
   "id": "11e553f7",
   "metadata": {},
   "outputs": [],
   "source": [
    "# merging extracted data from two sites\n",
    "cusine_2=df2\n",
    "final_cusine=pd.concat([cusine_1_df,cusine_2])"
   ]
  },
  {
   "cell_type": "markdown",
   "id": "9c5db758",
   "metadata": {},
   "source": [
    "# Cuisine segmentation "
   ]
  },
  {
   "cell_type": "code",
   "execution_count": 16,
   "id": "fa844b71",
   "metadata": {},
   "outputs": [],
   "source": [
    "import pandas as pd"
   ]
  },
  {
   "cell_type": "code",
   "execution_count": 30,
   "id": "6f210dbf",
   "metadata": {},
   "outputs": [],
   "source": [
    "# data injetion\n",
    "cuisine_df = pd.read_excel(\"data/cusine.xlsx\")\n",
    "aisles_df = pd.read_csv(\"data/aisles.csv\")\n",
    "departments_df = pd.read_csv(\"data/departments.csv\")\n",
    "order_products__prior_df = pd.read_csv(\"data/order_products__prior.csv\")\n",
    "order_products__train_df = pd.read_csv(\"data/order_products__train.csv\")\n",
    "orders_df = pd.read_csv(\"data/orders.csv\")\n",
    "products_df = pd.read_csv(\"data/products.csv\")\n",
    "sample_submission_df = pd.read_csv(\"data/sample_submission.csv\")"
   ]
  },
  {
   "cell_type": "code",
   "execution_count": 18,
   "id": "34f8128c",
   "metadata": {},
   "outputs": [],
   "source": [
    "# Filtering products dataframe to remove non-edible products.\n",
    "products_df = products_df[products_df[\"aisle_id\"].isin([2,4,5,7,9,12,13,14,16,21,30,38,42,59,63,65,66,67,68,76,79,81,104,110,122,128,131])]\n",
    "req_prod_ids = products_df[\"product_id\"]\n",
    "order_products__prior_df = order_products__prior_df[order_products__prior_df[\"product_id\"].isin(req_prod_ids)]\n",
    "order_products__prior_df = order_products__prior_df.merge(products_df[[\"product_id\", \"product_name\"]],on=\"product_id\",how=\"inner\")"
   ]
  },
  {
   "cell_type": "code",
   "execution_count": 19,
   "id": "be05175a",
   "metadata": {},
   "outputs": [],
   "source": [
    "# Extracting order counts for the filtered products\n",
    "prior_order_prods = order_products__prior_df.groupby('order_id')['product_name'].apply(list).to_frame().reset_index()\n",
    "prior_order_df = prior_order_prods.merge(orders_df,on=\"order_id\",how=\"inner\")\n",
    "prior_orders = prior_order_df.groupby('user_id')['product_name'].apply(list).to_frame().reset_index()\n",
    "prior_orders = prior_orders.rename(columns={\"product_name\": \"orders\"})"
   ]
  },
  {
   "cell_type": "code",
   "execution_count": 31,
   "id": "8850ddaf",
   "metadata": {},
   "outputs": [],
   "source": [
    "# preprocessing cuisine labels\n",
    "cuisine_df = cuisine_df.groupby('cuisine')['ingredient'].apply(list).transform(lambda x: ','.join(x)).reset_index()\n",
    "cuisine_df = [x+\": \"+y for x,y in zip(cuisine_df[\"cuisine\"],cuisine_df[\"ingredient\"])]"
   ]
  },
  {
   "cell_type": "code",
   "execution_count": 35,
   "id": "9e4062f5",
   "metadata": {},
   "outputs": [
    {
     "data": {
      "text/plain": [
       "['Amercian: Barbecue sauce,tomato paste,Steak,Broccoli,Lettuce,Kale,turkey,bagel,brioche,Hot Dogs,sandwich bread,mayonnaise,pumpkin,Apple cider vinegar,Cornmeal,Sweet corn,Potato chips,Hot sauce,garlic powder,onion powder,Maple syrup,Cajun seasoning,Rotisserie Chicken,Sweet potatoes,Peanut butter,ketchup,burger,Bacon,Sausage,Hot dog,Red beans,Buttermilk,Worcestershire sauce,Old Bay seasoning,spinach,string cheese,Kraft american cheese',\n",
       " 'Chinese: five-spice powder, Szechuan peppercorns, star anise, hoisin sauce, oyster sauce,mustard seed, kaffir lime leaf, anise, cilantro, ginger, red chilies, peppers, taro root, lotus root, kumquats, orange/tangerine, Chinese broccoli (aka Chinese kale), bok choy, pea pods,Tofu,Rice, noodles, dumplings ,Duck',\n",
       " 'French: cloves, nutmeg, saffron,chervil, dill, tarragon, dried rosemary, thyme, bay leaf, savory,duck,endive, shallots, fennel, lentils, zucchini, eggplant,pears, plums, apples,Bread, croissants, pastries, potatoes,duck',\n",
       " 'Greek: allspice, cinnamon, cloves, cumin, ginger, saffron,dill, mint, Greek oregano, mahlab, bay leaf,eggplant, lemon, olives/olive oil,cucumbers, spinach/greens,feta cheese,yogurt,Goat cheese,bread, rice, potatoes, couscous',\n",
       " 'Indian:  Garam masala, cinnamon, cloves, coriander, cumin, fenugreek, cardamom (green and black), chili powders, saffron, turmeric,garlic paste, Coriander, bay leaves, curry leaves, mint,chickpeas, lime, mango, chilies, potatoes,cauliflower, Rice, lentils, naan, semolina,panner,Basmati Rice,chicken tikka',\n",
       " \"Israeli: turmeric, cumin, za'atar, sumac, paprika,bay leaf, flat-leaf parsley, cilantro, dill, mint,oranges, chickpeas, almonds, dates,yogurt,Bread, pita, hummus, couscous\",\n",
       " 'Italian: coriander, nutmeg, pepper, vanilla,basil, oregano, parsley, sage, rosemary, thyme,pepperoncino, almonds, fennel, eggplant, zucchini, mushrooms, olives (and olive oil),cheese,Truffle,meatballs,Pasta, bread, pizza, risotto, polenta, gnocchi,olive oil, Parmesan cheese, mozzarella cheese, balsamic vinegar,Prosciutto, pancetta',\n",
       " 'Japanese: mustard powder, sesame seeds, sansho , shichimi togarashi,Soy sauce, miso paste, sake, mirin, dashi broth, nori seaweed, wasabi, sake, wasabi, green tea, matcha,ramen noodles ,tonkotsu ramen noodles,miso ramen noodles,shin ramen, mushrooms, seaweed, scallions, ginger,daikon radish, Japanese eggplants, Asian pears, kabocha squash, greens, Rice, ramen noodles,tofu,soba,Ginger ramen noodles',\n",
       " 'Korean: Gochujang,Gochugaru,Sesameseeds,Black pepper,Ginger,Scallions,Soy,sauce,Doenjang,Korea chili,powder,Fishsauce,Rice,vinegar,Kimchi,Rice,Tofu,Daikon,radish,Carrots,Cabbage,Bean,sprouts,Zucchini',\n",
       " 'Mexican: coriander, cumin, cinnamon, chili powder, saffron,Mexican oregano, cilantro,tomatillo, chili peppers,black beans, pinto beans, fava beans,chorizo,Corn tortillas, beans, rice, tamales, enchiladas, quesadillas, chilaquiles, sopes',\n",
       " 'Persian: saffron, cinnamon, cardamom, advieh spice blend, sumac, dill, spearmint, parsley, fenugreek, basil,lime, pomegranate, oranges, walnuts, eggplant, beans, grape leaves,Rice, bread, lavash, barley',\n",
       " 'Thai: black pepper, chili powder, turmeric, cumin, cloves, coriander,cilantro, mint, Thai basil, ginger/galangal, pandanus leaves,coconut milk, chilies, mushrooms, kaffir lime,shallots, eggplant, bean sprouts, cabbage, papaya, lemongrass,Jasmine rice, noodles, fish sauce, shrimp paste, coconut milk',\n",
       " 'Turkish: cumin, oregano, sumac, red pepper flakes, nigella seeds, black sesame seeds), black pepper,mint, dill, fennel, parsley, bay leaf,salep, arugula, pickled cabbage,cucumber, mushrooms, peppers, potatoes,Pita, rice, bulgur, chickpeas,Classic Hommus,tahini,tzatziki']"
      ]
     },
     "execution_count": 35,
     "metadata": {},
     "output_type": "execute_result"
    }
   ],
   "source": [
    "cuisine_df"
   ]
  },
  {
   "cell_type": "markdown",
   "id": "26c273b8",
   "metadata": {},
   "source": [
    "# Assymetric semantic search"
   ]
  },
  {
   "cell_type": "code",
   "execution_count": null,
   "id": "d77530a8",
   "metadata": {},
   "outputs": [],
   "source": [
    "import torch\n",
    "import re\n",
    "from sentence_transformers import SentenceTransformer, CrossEncoder,util"
   ]
  },
  {
   "cell_type": "code",
   "execution_count": null,
   "id": "75caa83c",
   "metadata": {},
   "outputs": [],
   "source": [
    "# tested with both bi-encoder and cross encoders, performance cross encoder is much better than bi-encoder. Below code is for bi-encoder\n",
    "sbert_model = SentenceTransformer(\"sentence-transformers/msmarco-distilbert-cos-v5\")\n",
    "for i in range(0,5):\n",
    "    for order in prior_orders[\"orders\"][i]:\n",
    "        for product in order:\n",
    "            \n",
    "            order_embedding = sbert_model.encode(re.sub(r'[^A-Za-z ]+', '', product), convert_to_tensor=True)\n",
    "            scores = util.cos_sim(order_embedding, cuisine_embeddings)[0]\n",
    "            matched_cuisines = torch.topk(scores, k=1)\n",
    "\n",
    "            print(\"\\n\\n======================\\n\\n\")\n",
    "            print(\"Query:\", re.sub(r'[^A-Za-z ]+', '', product))\n",
    "            print(\"\\nSimilar cuisines:\")\n",
    "\n",
    "            for score, idx in zip(matched_cuisines[0], matched_cuisines[1]):\n",
    "                print(cuisine_df[idx], \"(Score: {:.4f})\".format(score))"
   ]
  },
  {
   "cell_type": "code",
   "execution_count": null,
   "id": "462f8a5b",
   "metadata": {},
   "outputs": [],
   "source": [
    "# loading cross encoder model from sentese transfomers\n",
    "from sentence_transformers import CrossEncoder\n",
    "model = CrossEncoder(\"cross-encoder/ms-marco-MiniLM-L-12-v2\", max_length=512)"
   ]
  },
  {
   "cell_type": "code",
   "execution_count": null,
   "id": "bd854709",
   "metadata": {},
   "outputs": [],
   "source": [
    "# classfied prodects into cuisines\n",
    "product_cuisine_map = []\n",
    "for product in tqdm(list(products_df[\"product_name\"])):\n",
    "    scores = model.predict([(re.sub(r'[^A-Za-z ]+', '', product), cuisine) for cuisine in cuisine_df])\n",
    "    cuisine = np.argmax(scores)\n",
    "    product_cuisine_map.append(cuisine)"
   ]
  },
  {
   "cell_type": "code",
   "execution_count": null,
   "id": "7c2652af",
   "metadata": {},
   "outputs": [],
   "source": [
    "# saving the product_cuisine_map for further inference\n",
    "products_df[\"cuisine\"] = product_cuisine_map\n",
    "products_df.to_csv(\"product_cusine_df.csv\")"
   ]
  },
  {
   "cell_type": "code",
   "execution_count": 39,
   "id": "c421f6f1",
   "metadata": {},
   "outputs": [],
   "source": [
    "# Extracting cuisine names from cuisine labels\n",
    "cuisines = [i[:i.find(\":\")] for i in cuisine_df]"
   ]
  },
  {
   "cell_type": "code",
   "execution_count": null,
   "id": "c9c354cb",
   "metadata": {},
   "outputs": [],
   "source": [
    "products_df = pd.read_csv(\"product_cusine_df.csv\")"
   ]
  },
  {
   "cell_type": "code",
   "execution_count": 38,
   "id": "aa61472f",
   "metadata": {},
   "outputs": [
    {
     "data": {
      "text/html": [
       "<div>\n",
       "<style scoped>\n",
       "    .dataframe tbody tr th:only-of-type {\n",
       "        vertical-align: middle;\n",
       "    }\n",
       "\n",
       "    .dataframe tbody tr th {\n",
       "        vertical-align: top;\n",
       "    }\n",
       "\n",
       "    .dataframe thead th {\n",
       "        text-align: right;\n",
       "    }\n",
       "</style>\n",
       "<table border=\"1\" class=\"dataframe\">\n",
       "  <thead>\n",
       "    <tr style=\"text-align: right;\">\n",
       "      <th></th>\n",
       "      <th>Unnamed: 0</th>\n",
       "      <th>product_id</th>\n",
       "      <th>product_name</th>\n",
       "      <th>aisle_id</th>\n",
       "      <th>department_id</th>\n",
       "      <th>cuisine</th>\n",
       "    </tr>\n",
       "  </thead>\n",
       "  <tbody>\n",
       "    <tr>\n",
       "      <th>0</th>\n",
       "      <td>17</td>\n",
       "      <td>18</td>\n",
       "      <td>Pizza for One Suprema  Frozen Pizza</td>\n",
       "      <td>79</td>\n",
       "      <td>1</td>\n",
       "      <td>Italian</td>\n",
       "    </tr>\n",
       "    <tr>\n",
       "      <th>1</th>\n",
       "      <td>18</td>\n",
       "      <td>19</td>\n",
       "      <td>Gluten Free Quinoa Three Cheese &amp; Mushroom Blend</td>\n",
       "      <td>63</td>\n",
       "      <td>9</td>\n",
       "      <td>Italian</td>\n",
       "    </tr>\n",
       "    <tr>\n",
       "      <th>2</th>\n",
       "      <td>28</td>\n",
       "      <td>29</td>\n",
       "      <td>Fresh Cut Golden Sweet No Salt Added Whole Ker...</td>\n",
       "      <td>81</td>\n",
       "      <td>15</td>\n",
       "      <td>Amercian</td>\n",
       "    </tr>\n",
       "    <tr>\n",
       "      <th>3</th>\n",
       "      <td>29</td>\n",
       "      <td>30</td>\n",
       "      <td>Three Cheese Ziti, Marinara with Meatballs</td>\n",
       "      <td>38</td>\n",
       "      <td>1</td>\n",
       "      <td>Italian</td>\n",
       "    </tr>\n",
       "    <tr>\n",
       "      <th>4</th>\n",
       "      <td>32</td>\n",
       "      <td>33</td>\n",
       "      <td>Organic Spaghetti Style Pasta</td>\n",
       "      <td>131</td>\n",
       "      <td>9</td>\n",
       "      <td>Italian</td>\n",
       "    </tr>\n",
       "    <tr>\n",
       "      <th>...</th>\n",
       "      <td>...</td>\n",
       "      <td>...</td>\n",
       "      <td>...</td>\n",
       "      <td>...</td>\n",
       "      <td>...</td>\n",
       "      <td>...</td>\n",
       "    </tr>\n",
       "    <tr>\n",
       "      <th>9509</th>\n",
       "      <td>49657</td>\n",
       "      <td>49658</td>\n",
       "      <td>Brie with Herbs Foil Wedge</td>\n",
       "      <td>2</td>\n",
       "      <td>16</td>\n",
       "      <td>French</td>\n",
       "    </tr>\n",
       "    <tr>\n",
       "      <th>9510</th>\n",
       "      <td>49666</td>\n",
       "      <td>49667</td>\n",
       "      <td>Enchilada with Spanish Rice &amp; Beans Meal</td>\n",
       "      <td>38</td>\n",
       "      <td>1</td>\n",
       "      <td>Mexican</td>\n",
       "    </tr>\n",
       "    <tr>\n",
       "      <th>9511</th>\n",
       "      <td>49676</td>\n",
       "      <td>49677</td>\n",
       "      <td>Thick &amp; Chunky Sloppy Joe Sauce</td>\n",
       "      <td>59</td>\n",
       "      <td>15</td>\n",
       "      <td>Amercian</td>\n",
       "    </tr>\n",
       "    <tr>\n",
       "      <th>9512</th>\n",
       "      <td>49680</td>\n",
       "      <td>49681</td>\n",
       "      <td>Spaghetti with Meatballs and Sauce Meal</td>\n",
       "      <td>38</td>\n",
       "      <td>1</td>\n",
       "      <td>Italian</td>\n",
       "    </tr>\n",
       "    <tr>\n",
       "      <th>9513</th>\n",
       "      <td>49684</td>\n",
       "      <td>49685</td>\n",
       "      <td>En Croute Roast Hazelnut Cranberry</td>\n",
       "      <td>42</td>\n",
       "      <td>1</td>\n",
       "      <td>French</td>\n",
       "    </tr>\n",
       "  </tbody>\n",
       "</table>\n",
       "<p>9514 rows × 6 columns</p>\n",
       "</div>"
      ],
      "text/plain": [
       "      Unnamed: 0  product_id  \\\n",
       "0             17          18   \n",
       "1             18          19   \n",
       "2             28          29   \n",
       "3             29          30   \n",
       "4             32          33   \n",
       "...          ...         ...   \n",
       "9509       49657       49658   \n",
       "9510       49666       49667   \n",
       "9511       49676       49677   \n",
       "9512       49680       49681   \n",
       "9513       49684       49685   \n",
       "\n",
       "                                           product_name  aisle_id  \\\n",
       "0                   Pizza for One Suprema  Frozen Pizza        79   \n",
       "1      Gluten Free Quinoa Three Cheese & Mushroom Blend        63   \n",
       "2     Fresh Cut Golden Sweet No Salt Added Whole Ker...        81   \n",
       "3            Three Cheese Ziti, Marinara with Meatballs        38   \n",
       "4                         Organic Spaghetti Style Pasta       131   \n",
       "...                                                 ...       ...   \n",
       "9509                         Brie with Herbs Foil Wedge         2   \n",
       "9510           Enchilada with Spanish Rice & Beans Meal        38   \n",
       "9511                    Thick & Chunky Sloppy Joe Sauce        59   \n",
       "9512            Spaghetti with Meatballs and Sauce Meal        38   \n",
       "9513                 En Croute Roast Hazelnut Cranberry        42   \n",
       "\n",
       "      department_id   cuisine  \n",
       "0                 1   Italian  \n",
       "1                 9   Italian  \n",
       "2                15  Amercian  \n",
       "3                 1   Italian  \n",
       "4                 9   Italian  \n",
       "...             ...       ...  \n",
       "9509             16    French  \n",
       "9510              1   Mexican  \n",
       "9511             15  Amercian  \n",
       "9512              1   Italian  \n",
       "9513              1    French  \n",
       "\n",
       "[9514 rows x 6 columns]"
      ]
     },
     "execution_count": 38,
     "metadata": {},
     "output_type": "execute_result"
    }
   ],
   "source": [
    "products_df"
   ]
  },
  {
   "cell_type": "code",
   "execution_count": 41,
   "id": "4e704b0f",
   "metadata": {},
   "outputs": [],
   "source": [
    "# Filtering the daata for order counts to create visualizations\n",
    "order_products__prior_df = pd.read_csv(\"data/order_products__prior.csv\")\n",
    "orders_df = pd.read_csv(\"data/orders.csv\")\n",
    "req_prod_ids = products_df[\"product_id\"]\n",
    "order_products__prior_df = order_products__prior_df[order_products__prior_df[\"product_id\"].isin(req_prod_ids)]\n",
    "order_products__prior_df = order_products__prior_df.merge(products_df[[\"product_id\", \"cuisine\"]],on=\"product_id\",how=\"inner\")\n",
    "cuisine_orders = order_products__prior_df[\"cuisine\"].value_counts().to_frame().reset_index()"
   ]
  },
  {
   "cell_type": "code",
   "execution_count": 43,
   "id": "c9d9379e",
   "metadata": {},
   "outputs": [],
   "source": [
    "from matplotlib.patches import Patch\n",
    "import matplotlib.pyplot as plt\n",
    "import squarify"
   ]
  },
  {
   "cell_type": "code",
   "execution_count": 44,
   "id": "1d88df0b",
   "metadata": {},
   "outputs": [],
   "source": [
    "# Adding custom legend to square plot\n",
    "labels = [Patch(facecolor=\"#FFFFFF\",label = str(x)+\" - \"+str(y)) for x,y in zip(cuisine_orders[\"index\"],cuisine_orders[\"cuisine\"])]"
   ]
  },
  {
   "cell_type": "code",
   "execution_count": 45,
   "id": "09006fc8",
   "metadata": {},
   "outputs": [
    {
     "data": {
      "image/png": "[encoded data removed]",
      "text/plain": [
       "<Figure size 800x600 with 1 Axes>"
      ]
     },
     "metadata": {},
     "output_type": "display_data"
    }
   ],
   "source": [
    "# plot depicting order counts of various cuisine related products\n",
    "plt.figure(figsize=(8, 6))\n",
    "plt.title(\"Order count for various cuisine related products\")\n",
    "plt.axis('off')\n",
    "squarify.plot(sizes=cuisine_orders[\"cuisine\"], label=cuisine_orders[\"index\"], alpha=.7,pad=2)\n",
    "plt.legend(handles=labels,loc='center right',bbox_to_anchor=(1.4, 0.5),frameon=False)\n",
    "plt.show()"
   ]
  }
 ],
 "metadata": {
  "kernelspec": {
   "display_name": "Python 3 (ipykernel)",
   "language": "python",
   "name": "python3"
  },
  "language_info": {
   "codemirror_mode": {
    "name": "ipython",
    "version": 3
   },
   "file_extension": ".py",
   "mimetype": "text/x-python",
   "name": "python",
   "nbconvert_exporter": "python",
   "pygments_lexer": "ipython3",
   "version": "3.9.13"
  }
 },
 "nbformat": 4,
 "nbformat_minor": 5
}
