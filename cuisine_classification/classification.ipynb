{
 "cells": [
  {
   "cell_type": "markdown",
   "id": "9c5db758",
   "metadata": {},
   "source": [
    "# Cuisine segmentation "
   ]
  },
  {
   "cell_type": "code",
   "execution_count": null,
   "id": "61d9769d",
   "metadata": {},
   "outputs": [],
   "source": [
    "cuisine_df = pd.read_excel(\"data/cusine.xlsx\")"
   ]
  },
  {
   "cell_type": "code",
   "execution_count": null,
   "id": "6f210dbf",
   "metadata": {},
   "outputs": [],
   "source": [
    "aisles_df = pd.read_csv(\"data/aisles.csv\")\n",
    "departments_df = pd.read_csv(\"data/departments.csv\")\n",
    "order_products__prior_df = pd.read_csv(\"data/order_products__prior.csv\")\n",
    "order_products__train_df = pd.read_csv(\"data/order_products__train.csv\")\n",
    "orders_df = pd.read_csv(\"data/orders.csv\")\n",
    "products_df = pd.read_csv(\"data/products.csv\")\n",
    "sample_submission_df = pd.read_csv(\"data/sample_submission.csv\")"
   ]
  },
  {
   "cell_type": "code",
   "execution_count": null,
   "id": "34f8128c",
   "metadata": {},
   "outputs": [],
   "source": [
    "products_df = products_df[products_df[\"aisle_id\"].isin([2,4,5,7,9,12,13,14,16,21,30,38,42,59,63,65,66,67,68,76,79,81,104,110,122,128,131])]"
   ]
  },
  {
   "cell_type": "code",
   "execution_count": null,
   "id": "cd68c840",
   "metadata": {},
   "outputs": [],
   "source": [
    "req_prod_ids = products_df[\"product_id\"]"
   ]
  },
  {
   "cell_type": "code",
   "execution_count": null,
   "id": "f08d3b6b",
   "metadata": {},
   "outputs": [],
   "source": [
    "order_products__prior_df = order_products__prior_df[order_products__prior_df[\"product_id\"].isin(req_prod_ids)]"
   ]
  },
  {
   "cell_type": "code",
   "execution_count": null,
   "id": "f2304767",
   "metadata": {},
   "outputs": [],
   "source": [
    "order_products__prior_df = order_products__prior_df.merge(products_df[[\"product_id\", \"product_name\"]],on=\"product_id\",how=\"inner\")"
   ]
  },
  {
   "cell_type": "code",
   "execution_count": null,
   "id": "be05175a",
   "metadata": {},
   "outputs": [],
   "source": [
    "prior_order_prods = order_products__prior_df.groupby('order_id')['product_name'].apply(list).to_frame().reset_index()"
   ]
  },
  {
   "cell_type": "code",
   "execution_count": null,
   "id": "e93465e2",
   "metadata": {},
   "outputs": [],
   "source": [
    "prior_order_df = prior_order_prods.merge(orders_df,on=\"order_id\",how=\"inner\")"
   ]
  },
  {
   "cell_type": "code",
   "execution_count": null,
   "id": "08774fe5",
   "metadata": {},
   "outputs": [],
   "source": [
    "prior_orders = prior_order_df.groupby('user_id')['product_name'].apply(list).to_frame().reset_index()\n",
    "prior_orders = prior_orders.rename(columns={\"product_name\": \"orders\"})\n",
    "cuisine_df = cuisine_df.groupby('cuisine')['ingredient'].apply(list).transform(lambda x: ','.join(x)).reset_index()\n",
    "cuisine_df = [x+\": \"+y for x,y in zip(cuisine_df[\"cuisine\"],cuisine_df[\"ingredient\"])]"
   ]
  },
  {
   "cell_type": "markdown",
   "id": "26c273b8",
   "metadata": {},
   "source": [
    "# Assymetric semantic search"
   ]
  },
  {
   "cell_type": "code",
   "execution_count": null,
   "id": "d77530a8",
   "metadata": {},
   "outputs": [],
   "source": [
    "from sentence_transformers import SentenceTransformer, util\n",
    "import torch\n",
    "sbert_model = SentenceTransformer(\"sentence-transformers/msmarco-distilbert-cos-v5\")"
   ]
  },
  {
   "cell_type": "code",
   "execution_count": null,
   "id": "ae3c1ab3",
   "metadata": {},
   "outputs": [],
   "source": [
    "cuisine_embeddings = sbert_model.encode(cuisine_df, convert_to_tensor=True)"
   ]
  },
  {
   "cell_type": "code",
   "execution_count": null,
   "id": "e8cdd872",
   "metadata": {},
   "outputs": [],
   "source": [
    "import re"
   ]
  },
  {
   "cell_type": "code",
   "execution_count": null,
   "id": "75caa83c",
   "metadata": {},
   "outputs": [],
   "source": [
    "for i in range(0,5):\n",
    "    for order in prior_orders[\"orders\"][i]:\n",
    "        for product in order:\n",
    "            \n",
    "            order_embedding = sbert_model.encode(re.sub(r'[^A-Za-z ]+', '', product), convert_to_tensor=True)\n",
    "            scores = util.cos_sim(order_embedding, cuisine_embeddings)[0]\n",
    "            matched_cuisines = torch.topk(scores, k=1)\n",
    "\n",
    "            print(\"\\n\\n======================\\n\\n\")\n",
    "            print(\"Query:\", re.sub(r'[^A-Za-z ]+', '', product))\n",
    "            print(\"\\nSimilar cuisines:\")\n",
    "\n",
    "            for score, idx in zip(matched_cuisines[0], matched_cuisines[1]):\n",
    "                print(cuisine_df[idx], \"(Score: {:.4f})\".format(score))"
   ]
  },
  {
   "cell_type": "code",
   "execution_count": null,
   "id": "462f8a5b",
   "metadata": {},
   "outputs": [],
   "source": [
    "from sentence_transformers import CrossEncoder\n",
    "model = CrossEncoder(\"cross-encoder/ms-marco-MiniLM-L-12-v2\", max_length=512)"
   ]
  },
  {
   "cell_type": "code",
   "execution_count": null,
   "id": "bd854709",
   "metadata": {},
   "outputs": [],
   "source": [
    "product_cuisine_map = []\n",
    "for product in tqdm(list(products_df[\"product_name\"])):\n",
    "    scores = model.predict([(re.sub(r'[^A-Za-z ]+', '', product), cuisine) for cuisine in cuisine_df_3])\n",
    "    cuisine = np.argmax(scores)\n",
    "    product_cuisine_map.append(cuisine)"
   ]
  },
  {
   "cell_type": "code",
   "execution_count": null,
   "id": "7c2652af",
   "metadata": {},
   "outputs": [],
   "source": [
    "products_df[\"cuisine\"] = product_cuisine_map"
   ]
  },
  {
   "cell_type": "code",
   "execution_count": null,
   "id": "588530a2",
   "metadata": {},
   "outputs": [],
   "source": [
    "products_df.to_csv(\"product_cusine_df.csv\")"
   ]
  },
  {
   "cell_type": "code",
   "execution_count": null,
   "id": "eb341d11",
   "metadata": {},
   "outputs": [],
   "source": [
    "cuisines = [i[:i.find(\":\")] for i in cuisine_df_3]"
   ]
  },
  {
   "cell_type": "code",
   "execution_count": null,
   "id": "4e704b0f",
   "metadata": {},
   "outputs": [],
   "source": [
    "products_df[\"cuisine\"] = products_df[\"cuisine\"].apply(lambda x:cuisines[x])"
   ]
  },
  {
   "cell_type": "code",
   "execution_count": null,
   "id": "6dff0e90",
   "metadata": {},
   "outputs": [],
   "source": [
    "order_products__prior_df = pd.read_csv(\"data/order_products__prior.csv\")\n",
    "orders_df = pd.read_csv(\"data/orders.csv\")"
   ]
  },
  {
   "cell_type": "code",
   "execution_count": null,
   "id": "e2077c74",
   "metadata": {},
   "outputs": [],
   "source": [
    "req_prod_ids = products_df[\"product_id\"]"
   ]
  },
  {
   "cell_type": "code",
   "execution_count": null,
   "id": "de7ddba4",
   "metadata": {},
   "outputs": [],
   "source": [
    "order_products__prior_df = order_products__prior_df[order_products__prior_df[\"product_id\"].isin(req_prod_ids)]\n",
    "order_products__prior_df = order_products__prior_df.merge(products_df[[\"product_id\", \"cuisine\"]],on=\"product_id\",how=\"inner\")"
   ]
  },
  {
   "cell_type": "code",
   "execution_count": null,
   "id": "c302b5d8",
   "metadata": {},
   "outputs": [],
   "source": [
    "cuisine_orders = order_products__prior_df[\"cuisine\"].value_counts().to_frame().reset_index()"
   ]
  },
  {
   "cell_type": "code",
   "execution_count": null,
   "id": "81ef5730",
   "metadata": {},
   "outputs": [],
   "source": [
    "labels = [Patch(facecolor=\"#FFFFFF\",label = str(x)+\" - \"+str(y)) for x,y in zip(cuisine_orders[\"index\"],cuisine_orders[\"cuisine\"])]"
   ]
  },
  {
   "cell_type": "code",
   "execution_count": null,
   "id": "c9d9379e",
   "metadata": {},
   "outputs": [],
   "source": [
    "from matplotlib.patches import Patch"
   ]
  },
  {
   "cell_type": "code",
   "execution_count": null,
   "id": "09006fc8",
   "metadata": {},
   "outputs": [],
   "source": [
    "plt.figure(figsize=(8, 6))\n",
    "plt.title(\"Order count for various cuisine related products\")\n",
    "plt.axis('off')\n",
    "squarify.plot(sizes=cuisine_orders[\"cuisine\"], label=cuisine_orders[\"index\"], alpha=.7,pad=2)\n",
    "plt.legend(handles=labels,loc='center right',bbox_to_anchor=(1.4, 0.5),frameon=False)\n",
    "plt.show()"
   ]
  },
  {
   "cell_type": "code",
   "execution_count": null,
   "id": "8a7df26d",
   "metadata": {},
   "outputs": [],
   "source": [
    "import matplotlib.pyplot as plt\n",
    "import squarify"
   ]
  },
  {
   "cell_type": "code",
   "execution_count": null,
   "id": "9153f57f",
   "metadata": {},
   "outputs": [],
   "source": [
    "prior_order_cuisines = order_products__prior_df.groupby('order_id')['cuisine'].apply(list).to_frame().reset_index()"
   ]
  },
  {
   "cell_type": "code",
   "execution_count": null,
   "id": "b6a77bf9",
   "metadata": {},
   "outputs": [],
   "source": []
  }
 ],
 "metadata": {
  "kernelspec": {
   "display_name": "Python 3 (ipykernel)",
   "language": "python",
   "name": "python3"
  },
  "language_info": {
   "codemirror_mode": {
    "name": "ipython",
    "version": 3
   },
   "file_extension": ".py",
   "mimetype": "text/x-python",
   "name": "python",
   "nbconvert_exporter": "python",
   "pygments_lexer": "ipython3",
   "version": "3.9.13"
  }
 },
 "nbformat": 4,
 "nbformat_minor": 5
}
